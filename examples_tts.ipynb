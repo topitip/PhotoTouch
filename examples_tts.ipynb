{
  "nbformat": 4,
  "nbformat_minor": 5,
  "metadata": {
    "colab": {
      "name": "examples_tts.ipynb",
      "provenance": [],
      "toc_visible": true
    },
    "kernelspec": {
      "display_name": "Python 3",
      "language": "python",
      "name": "python3"
    },
    "language_info": {
      "codemirror_mode": {
        "name": "ipython",
        "version": 3
      },
      "file_extension": ".py",
      "mimetype": "text/x-python",
      "name": "python",
      "nbconvert_exporter": "python",
      "pygments_lexer": "ipython3",
      "version": "3.8.8"
    },
    "toc": {
      "base_numbering": 1,
      "nav_menu": {},
      "number_sections": true,
      "sideBar": true,
      "skip_h1_title": false,
      "title_cell": "Table of Contents",
      "title_sidebar": "Contents",
      "toc_cell": false,
      "toc_position": {},
      "toc_section_display": true,
      "toc_window_display": false
    }
  },
  "cells": [
    {
      "cell_type": "markdown",
      "metadata": {
        "id": "nasty-intention"
      },
      "source": [
        "# Colab Demo"
      ],
      "id": "nasty-intention"
    },
    {
      "cell_type": "markdown",
      "metadata": {
        "id": "previous-bacon"
      },
      "source": [
        "## Dependencies and Imports"
      ],
      "id": "previous-bacon"
    },
    {
      "cell_type": "code",
      "metadata": {
        "ExecuteTime": {
          "end_time": "2021-06-18T06:34:38.757647Z",
          "start_time": "2021-06-18T06:34:37.545968Z"
        },
        "cellView": "form",
        "id": "complicated-receiver"
      },
      "source": [
        "#@title Install dependencies\n",
        "\n",
        "!pip install -q torchaudio omegaconf\n",
        "\n",
        "import torch\n",
        "from pprint import pprint\n",
        "from omegaconf import OmegaConf\n",
        "from IPython.display import Audio, display\n",
        "\n",
        "torch.hub.download_url_to_file('https://raw.githubusercontent.com/snakers4/silero-models/master/models.yml',\n",
        "                               'latest_silero_models.yml',\n",
        "                               progress=False)\n",
        "models = OmegaConf.load('latest_silero_models.yml')"
      ],
      "id": "complicated-receiver",
      "execution_count": null,
      "outputs": []
    },
    {
      "cell_type": "markdown",
      "metadata": {
        "id": "7oQde2ZNE-ok"
      },
      "source": [
        "## List models"
      ],
      "id": "7oQde2ZNE-ok"
    },
    {
      "cell_type": "code",
      "metadata": {
        "ExecuteTime": {
          "end_time": "2021-06-18T06:34:47.677954Z",
          "start_time": "2021-06-18T06:34:47.665753Z"
        },
        "id": "pacific-injury"
      },
      "source": [
        "# see latest avaiable models\n",
        "available_languages = list(models.tts_models.keys())\n",
        "print(f'Available languages {available_languages}')\n",
        "\n",
        "for lang in available_languages:\n",
        "    speakers = list(models.tts_models.get(lang).keys())\n",
        "    print(f'Available speakers for {lang}: {speakers}')"
      ],
      "id": "pacific-injury",
      "execution_count": null,
      "outputs": []
    },
    {
      "cell_type": "markdown",
      "metadata": {
        "id": "3987bc23"
      },
      "source": [
        "## V2"
      ],
      "id": "3987bc23"
    },
    {
      "cell_type": "markdown",
      "metadata": {
        "id": "d8214b43"
      },
      "source": [
        "### One speaker"
      ],
      "id": "d8214b43"
    },
    {
      "cell_type": "code",
      "metadata": {
        "id": "c8f886e8"
      },
      "source": [
        "import torch\n",
        "\n",
        "language = 'ru'\n",
        "speaker = 'kseniya_v2'\n",
        "sample_rate = 16000\n",
        "device = torch.device('cpu')\n",
        "model, example_text = torch.hub.load(repo_or_dir='snakers4/silero-models',\n",
        "                                     model='silero_tts',\n",
        "                                     language=language,\n",
        "                                     speaker=speaker)\n",
        "model.to(device)  # gpu or cpu"
      ],
      "id": "c8f886e8",
      "execution_count": null,
      "outputs": []
    },
    {
      "cell_type": "code",
      "metadata": {
        "id": "ebe40114"
      },
      "source": [
        "audio = model.apply_tts(texts=[example_text],\n",
        "                        sample_rate=sample_rate)\n",
        "\n",
        "print(example_text)\n",
        "display(Audio(audio[0], rate=sample_rate))"
      ],
      "id": "ebe40114",
      "execution_count": null,
      "outputs": []
    },
    {
      "cell_type": "markdown",
      "metadata": {
        "id": "fae7bbef"
      },
      "source": [
        "### Multi speaker"
      ],
      "id": "fae7bbef"
    },
    {
      "cell_type": "code",
      "metadata": {
        "id": "7bdb5e65"
      },
      "source": [
        "import torch\n",
        "\n",
        "language = 'multi'\n",
        "speaker = 'multi_v2'\n",
        "sample_rate = 16000\n",
        "device = torch.device('cpu')\n",
        "model, avail_speakers = torch.hub.load(repo_or_dir='snakers4/silero-models',\n",
        "                                       model='silero_tts',\n",
        "                                       language=language,\n",
        "                                       speaker=speaker)\n",
        "model.to(device)  # gpu or cpu"
      ],
      "id": "7bdb5e65",
      "execution_count": null,
      "outputs": []
    },
    {
      "cell_type": "code",
      "metadata": {
        "id": "75f00424"
      },
      "source": [
        "speaker = 'dilyara'\n",
        "example_text = avail_speakers['baya']['example']"
      ],
      "id": "75f00424",
      "execution_count": null,
      "outputs": []
    },
    {
      "cell_type": "code",
      "metadata": {
        "id": "968a6411"
      },
      "source": [
        "audio = model.apply_tts(texts=[example_text],\n",
        "                        speakers=[speaker],\n",
        "                        sample_rate=sample_rate)\n",
        "\n",
        "print(example_text)\n",
        "display(Audio(audio[0], rate=sample_rate))"
      ],
      "id": "968a6411",
      "execution_count": null,
      "outputs": []
    },
    {
      "cell_type": "markdown",
      "metadata": {
        "id": "1da56a27"
      },
      "source": [
        "## V1"
      ],
      "id": "1da56a27"
    },
    {
      "cell_type": "markdown",
      "metadata": {
        "id": "833cK1e1Gzmp"
      },
      "source": [
        "These examples are for older models and obsolete"
      ],
      "id": "833cK1e1Gzmp"
    },
    {
      "cell_type": "code",
      "metadata": {
        "ExecuteTime": {
          "end_time": "2021-03-29T06:46:39.993648Z",
          "start_time": "2021-03-29T06:46:39.052349Z"
        },
        "id": "stupid-naples"
      },
      "source": [
        "import torch\n",
        "\n",
        "language = 'ru'\n",
        "speaker = 'kseniya_16khz'\n",
        "device = torch.device('cpu')\n",
        "model, symbols, sample_rate, example_text, apply_tts = torch.hub.load(repo_or_dir='snakers4/silero-models',\n",
        "                                                                      model='silero_tts',\n",
        "                                                                      language=language,\n",
        "                                                                      speaker=speaker)\n",
        "model = model.to(device)  # gpu or cpu"
      ],
      "id": "stupid-naples",
      "execution_count": null,
      "outputs": []
    },
    {
      "cell_type": "code",
      "metadata": {
        "id": "indirect-berry"
      },
      "source": [
        "audio = apply_tts(texts=[example_text],\n",
        "                  model=model,\n",
        "                  sample_rate=sample_rate,\n",
        "                  symbols=symbols,\n",
        "                  device=device)\n",
        "\n",
        "print(example_text)\n",
        "display(Audio(audio[0], rate=sample_rate))"
      ],
      "id": "indirect-berry",
      "execution_count": null,
      "outputs": []
    },
    {
      "cell_type": "markdown",
      "metadata": {
        "id": "n-IHQN_5KA_A"
      },
      "source": [
        "### Enhance synthesis with logmmse"
      ],
      "id": "n-IHQN_5KA_A"
    },
    {
      "cell_type": "code",
      "metadata": {
        "id": "ivNvVXhLKbmA"
      },
      "source": [
        "!pip install -q logmmse"
      ],
      "id": "ivNvVXhLKbmA",
      "execution_count": null,
      "outputs": []
    },
    {
      "cell_type": "markdown",
      "metadata": {
        "id": "pLMPBH_CMAzh"
      },
      "source": [
        "You can try to enhance synthesized audio with logmmse algorithm, though it could demand parameters tuning for the particular speaker."
      ],
      "id": "pLMPBH_CMAzh"
    },
    {
      "cell_type": "code",
      "metadata": {
        "id": "6b048VLuzgDF"
      },
      "source": [
        "import numpy as np\n",
        "from logmmse import logmmse\n",
        "\n",
        "enhanced = logmmse(np.array(audio[0]), sample_rate, output_file=None, initial_noise=1, window_size=160, noise_threshold=0.15)\n",
        "display(Audio(enhanced, rate=sample_rate))"
      ],
      "id": "6b048VLuzgDF",
      "execution_count": null,
      "outputs": []
    },
    {
      "cell_type": "markdown",
      "metadata": {
        "id": "Pwg_AYTCmufA"
      },
      "source": [
        "# Minimal Example to Run Locally "
      ],
      "id": "Pwg_AYTCmufA"
    },
    {
      "cell_type": "markdown",
      "metadata": {
        "id": "Phw8EAVBJGW8"
      },
      "source": [
        "## Dependencies and Imports"
      ],
      "id": "Phw8EAVBJGW8"
    },
    {
      "cell_type": "code",
      "metadata": {
        "cellView": "form",
        "id": "pLTZK0O7JPHT"
      },
      "source": [
        "#@title Install dependencies\n",
        "\n",
        "!pip install -q torch==1.9"
      ],
      "id": "pLTZK0O7JPHT",
      "execution_count": null,
      "outputs": []
    },
    {
      "cell_type": "markdown",
      "metadata": {
        "id": "04286bd0"
      },
      "source": [
        "## V2"
      ],
      "id": "04286bd0"
    },
    {
      "cell_type": "markdown",
      "metadata": {
        "id": "31a041ac"
      },
      "source": [
        "### One speaker"
      ],
      "id": "31a041ac"
    },
    {
      "cell_type": "code",
      "metadata": {
        "ExecuteTime": {
          "end_time": "2021-06-18T07:07:51.425251Z",
          "start_time": "2021-06-18T07:07:49.489260Z"
        },
        "id": "337e757f"
      },
      "source": [
        "import os\n",
        "import torch\n",
        "\n",
        "device = torch.device('cpu')\n",
        "torch.set_num_threads(4)\n",
        "local_file = 'model.pt'\n",
        "\n",
        "if not os.path.isfile(local_file):\n",
        "    torch.hub.download_url_to_file('https://models.silero.ai/models/tts/ru/v2_kseniya.pt',\n",
        "                                   local_file)  \n",
        "\n",
        "model = torch.package.PackageImporter(local_file).load_pickle(\"tts_models\", \"model\")\n",
        "model.to(device)\n",
        "\n",
        "example_batch = ['В недрах тундры выдры в г+етрах т+ырят в вёдра ядра кедров.',\n",
        "                 'Котики - это жидкость!',\n",
        "                 'М+ама М+илу м+ыла с м+ылом.']\n",
        "sample_rate = 16000\n",
        "\n",
        "audio_paths = model.save_wav(texts=example_batch,\n",
        "                             sample_rate=sample_rate)\n",
        "print(audio_paths)"
      ],
      "id": "337e757f",
      "execution_count": null,
      "outputs": []
    },
    {
      "cell_type": "markdown",
      "metadata": {
        "id": "e3998406"
      },
      "source": [
        "### Multi speaker"
      ],
      "id": "e3998406"
    },
    {
      "cell_type": "code",
      "metadata": {
        "ExecuteTime": {
          "end_time": "2021-06-18T07:16:46.917813Z",
          "start_time": "2021-06-18T07:16:28.628593Z"
        },
        "id": "678f0a98"
      },
      "source": [
        "import os\n",
        "import torch\n",
        "\n",
        "device = torch.device('cpu')\n",
        "torch.set_num_threads(4)\n",
        "local_file = 'model_multi.pt'\n",
        "speakers = ['aidar', 'baya', 'kseniya', 'irina', 'ruslan', 'natasha',\n",
        "                    'thorsten', 'tux', 'gilles', 'lj', 'dilyara']\n",
        "\n",
        "if not os.path.isfile(local_file):\n",
        "    torch.hub.download_url_to_file('https://models.silero.ai/models/tts/multi/v2_multi.pt',\n",
        "                                   local_file)  \n",
        "\n",
        "model = torch.package.PackageImporter(local_file).load_pickle(\"tts_models\", \"model\")\n",
        "model.to(device)\n",
        "\n",
        "example_batch = ['В н+едрах т+ундры в+ыдры в г+етрах т+ырят в в+ёдра +ядра к+едров.',\n",
        "                 'Fischers Fritze fischt frische Fische',\n",
        "                 'Can you can a canned can into an un-canned can?']\n",
        "example_speakers = ['baya', 'baya', 'baya']\n",
        "sample_rate = 16000\n",
        "\n",
        "audio_paths = model.save_wav(texts=example_batch,\n",
        "                             speakers=example_speakers,\n",
        "                             sample_rate=sample_rate)\n",
        "print(audio_paths)"
      ],
      "id": "678f0a98",
      "execution_count": null,
      "outputs": []
    },
    {
      "cell_type": "markdown",
      "metadata": {
        "id": "92990cca"
      },
      "source": [
        "## V1"
      ],
      "id": "92990cca"
    },
    {
      "cell_type": "markdown",
      "metadata": {
        "id": "g2t4hX0Im1U_"
      },
      "source": [
        "We have received a lot of questions regarding the packaging requirements and utils from the `silero-models` repo from people trying to run models locally standalone (on their desktop for example). The project is packaged using `torch.hub` utils which basically are in the `hubconf.py` [file](https://github.com/snakers4/silero-models/blob/master/hubconf.py) and `tts_utils.py` [file](https://github.com/snakers4/silero-models/blob/master/tts_utils.py).\n",
        "\n",
        "For some reason this is very difficult to understand for some users. Also the `hubconf.py` contains some dependecies, which may not be necessarily required when running TTS for example on your desktop, i.e. `torchaudio` and `omegaconf`.\n",
        "\n",
        "The following example is a minimal standalone example for such a use-case. It has very little external dependecies (essentially just `torch`, the rest is just standard python library). It basically does the following:\n",
        "\n",
        "- Loads one of the 16 kHz models (I just chose one randomly), listed on the models.yml [file](https://github.com/snakers4/silero-models/blob/master/models.yml) locally and uses it as cache;\n",
        "- The `symbols` are taken from the same  models.yml file;\n",
        "- `apply_tts` is just one of the utils we provide in the project;\n",
        "- The rest is self-explanatory;\n",
        "\n",
        "In order to use this example, you will need to handle the resulting audios by yourself."
      ],
      "id": "g2t4hX0Im1U_"
    },
    {
      "cell_type": "code",
      "metadata": {
        "id": "_-S9KQ19mzpy"
      },
      "source": [
        "import os\n",
        "import wave\n",
        "import torch\n",
        "import contextlib\n",
        "\n",
        "\n",
        "torch.set_grad_enabled(False)\n",
        "device = torch.device('cpu')\n",
        "torch.set_num_threads(4)  # safe optimal value, i.e. 2 CPU cores, does not work properly in colab\n",
        "symbols = '_~абвгдеёжзийклмнопрстуфхцчшщъыьэюя +.,!?…:;–'\n",
        "local_file = 'model.jit'\n",
        "\n",
        "\n",
        "if not os.path.isfile(local_file):\n",
        "  torch.hub.download_url_to_file('https://models.silero.ai/models/tts/ru/v1_kseniya_16000.jit',\n",
        "                                 local_file)\n",
        "\n",
        "if not os.path.isfile('tts_utils.py'):\n",
        "  torch.hub.download_url_to_file('https://raw.githubusercontent.com/snakers4/silero-models/master/tts_utils.py',\n",
        "                                 'tts_utils.py')\n",
        "  from tts_utils import apply_tts  # modify these utils and use them your project\n",
        "  \n",
        "\n",
        "model = torch.jit.load('model.jit',\n",
        "                       map_location=device)\n",
        "model.eval()\n",
        "example_batch = ['В н+едрах т+ундры в+ыдры в г+етрах т+ырят в в+ёдра +ядра к+едров.',\n",
        "                 'К+отики - +это ж+идкость!',\n",
        "                 'М+ама М+илу м+ыла с м+ылом.']\n",
        "sample_rate = 16000\n",
        "model = model.to(device)\n",
        "\n",
        "audio = apply_tts(texts=example_batch,\n",
        "                  model=model,\n",
        "                  sample_rate=sample_rate,\n",
        "                  symbols=symbols,\n",
        "                  device=device)\n",
        "\n",
        "def write_wave(path, audio, sample_rate):\n",
        "    \"\"\"Writes a .wav file.\n",
        "    Takes path, PCM audio data, and sample rate.\n",
        "    \"\"\"\n",
        "    with contextlib.closing(wave.open(path, 'wb')) as wf:\n",
        "        wf.setnchannels(1)\n",
        "        wf.setsampwidth(2)\n",
        "        wf.setframerate(sample_rate)\n",
        "        wf.writeframes(audio)\n",
        "\n",
        "for i, _audio in enumerate(audio):\n",
        "  write_wave(path=f'test_{str(i).zfill(3)}.wav',\n",
        "             audio=(audio[i] * 32767).numpy().astype('int16'),\n",
        "             sample_rate=16000)"
      ],
      "id": "_-S9KQ19mzpy",
      "execution_count": null,
      "outputs": []
    },
    {
      "cell_type": "code",
      "metadata": {
        "id": "_pcIug4No2Mn"
      },
      "source": [
        "from IPython.display import Audio, display\n",
        "display(Audio('test_000.wav', rate=16000))\n",
        "display(Audio('test_001.wav', rate=16000))\n",
        "display(Audio('test_002.wav', rate=16000))"
      ],
      "id": "_pcIug4No2Mn",
      "execution_count": null,
      "outputs": []
    }
  ]
}